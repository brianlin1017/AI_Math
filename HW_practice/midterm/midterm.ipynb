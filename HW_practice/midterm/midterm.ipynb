{
 "cells": [
  {
   "cell_type": "code",
   "execution_count": 1,
   "metadata": {},
   "outputs": [],
   "source": [
    "%matplotlib inline\n",
    "\n",
    "import numpy as np\n",
    "import matplotlib.pyplot as plt\n",
    "import pandas as pd\n"
   ]
  },
  {
   "cell_type": "markdown",
   "metadata": {},
   "source": [
    "利用Bitcoin歷史資料來決定何時買進\n",
    "\n",
    "\n",
    "資料來源:https://www.CryptoDataDownload.com  \n",
    "交易所選擇:Bitfinex"
   ]
  },
  {
   "cell_type": "code",
   "execution_count": 2,
   "metadata": {
    "scrolled": true
   },
   "outputs": [],
   "source": [
    "BTC = pd.read_csv(\"Bitfinex_BTCUSD_d.csv\")"
   ]
  },
  {
   "cell_type": "code",
   "execution_count": 3,
   "metadata": {
    "scrolled": false
   },
   "outputs": [
    {
     "data": {
      "text/html": [
       "<div>\n",
       "<table border=\"1\" class=\"dataframe\">\n",
       "  <thead>\n",
       "    <tr style=\"text-align: right;\">\n",
       "      <th></th>\n",
       "      <th></th>\n",
       "      <th></th>\n",
       "      <th></th>\n",
       "      <th></th>\n",
       "      <th></th>\n",
       "      <th>Created on 04-18-2019</th>\n",
       "      <th>https://www.CryptoDataDownload.com</th>\n",
       "    </tr>\n",
       "  </thead>\n",
       "  <tbody>\n",
       "    <tr>\n",
       "      <th>Date</th>\n",
       "      <th>Symbol</th>\n",
       "      <th>Open</th>\n",
       "      <th>High</th>\n",
       "      <th>Low</th>\n",
       "      <th>Close</th>\n",
       "      <td>Volume BTC</td>\n",
       "      <td>Volume USD</td>\n",
       "    </tr>\n",
       "    <tr>\n",
       "      <th>2019-04-18</th>\n",
       "      <th>BTCUSD</th>\n",
       "      <th>5254.5</th>\n",
       "      <th>5300</th>\n",
       "      <th>5254.5</th>\n",
       "      <th>5293.4</th>\n",
       "      <td>330.72</td>\n",
       "      <td>1745263.57</td>\n",
       "    </tr>\n",
       "    <tr>\n",
       "      <th>2019-04-17</th>\n",
       "      <th>BTCUSD</th>\n",
       "      <th>5234.4</th>\n",
       "      <th>5300</th>\n",
       "      <th>5206.8</th>\n",
       "      <th>5254.5</th>\n",
       "      <td>9283.95</td>\n",
       "      <td>48795493.23</td>\n",
       "    </tr>\n",
       "    <tr>\n",
       "      <th>2019-04-16</th>\n",
       "      <th>BTCUSD</th>\n",
       "      <th>5042.79</th>\n",
       "      <th>5256.7</th>\n",
       "      <th>5029.6</th>\n",
       "      <th>5234.4</th>\n",
       "      <td>8374.11</td>\n",
       "      <td>43200183.09</td>\n",
       "    </tr>\n",
       "    <tr>\n",
       "      <th>2019-04-15</th>\n",
       "      <th>BTCUSD</th>\n",
       "      <th>5194.4</th>\n",
       "      <th>5218.6</th>\n",
       "      <th>4977</th>\n",
       "      <th>5042.79</th>\n",
       "      <td>9520.05</td>\n",
       "      <td>48533007.73</td>\n",
       "    </tr>\n",
       "  </tbody>\n",
       "</table>\n",
       "</div>"
      ],
      "text/plain": [
       "                                                Created on 04-18-2019  \\\n",
       "Date       Symbol Open    High   Low    Close              Volume BTC   \n",
       "2019-04-18 BTCUSD 5254.5  5300   5254.5 5293.4                 330.72   \n",
       "2019-04-17 BTCUSD 5234.4  5300   5206.8 5254.5                9283.95   \n",
       "2019-04-16 BTCUSD 5042.79 5256.7 5029.6 5234.4                8374.11   \n",
       "2019-04-15 BTCUSD 5194.4  5218.6 4977   5042.79               9520.05   \n",
       "\n",
       "                                                https://www.CryptoDataDownload.com  \n",
       "Date       Symbol Open    High   Low    Close                           Volume USD  \n",
       "2019-04-18 BTCUSD 5254.5  5300   5254.5 5293.4                          1745263.57  \n",
       "2019-04-17 BTCUSD 5234.4  5300   5206.8 5254.5                         48795493.23  \n",
       "2019-04-16 BTCUSD 5042.79 5256.7 5029.6 5234.4                         43200183.09  \n",
       "2019-04-15 BTCUSD 5194.4  5218.6 4977   5042.79                        48533007.73  "
      ]
     },
     "execution_count": 3,
     "metadata": {},
     "output_type": "execute_result"
    }
   ],
   "source": [
    "BTC.head()"
   ]
  },
  {
   "cell_type": "code",
   "execution_count": 4,
   "metadata": {},
   "outputs": [
    {
     "data": {
      "text/html": [
       "<div>\n",
       "<table border=\"1\" class=\"dataframe\">\n",
       "  <thead>\n",
       "    <tr style=\"text-align: right;\">\n",
       "      <th></th>\n",
       "      <th>level_0</th>\n",
       "      <th>level_1</th>\n",
       "      <th>level_2</th>\n",
       "      <th>level_3</th>\n",
       "      <th>level_4</th>\n",
       "      <th>level_5</th>\n",
       "      <th>Created on 04-18-2019</th>\n",
       "      <th>https://www.CryptoDataDownload.com</th>\n",
       "    </tr>\n",
       "  </thead>\n",
       "  <tbody>\n",
       "    <tr>\n",
       "      <th>0</th>\n",
       "      <td>Date</td>\n",
       "      <td>Symbol</td>\n",
       "      <td>Open</td>\n",
       "      <td>High</td>\n",
       "      <td>Low</td>\n",
       "      <td>Close</td>\n",
       "      <td>Volume BTC</td>\n",
       "      <td>Volume USD</td>\n",
       "    </tr>\n",
       "    <tr>\n",
       "      <th>1</th>\n",
       "      <td>2019-04-18</td>\n",
       "      <td>BTCUSD</td>\n",
       "      <td>5254.5</td>\n",
       "      <td>5300</td>\n",
       "      <td>5254.5</td>\n",
       "      <td>5293.4</td>\n",
       "      <td>330.72</td>\n",
       "      <td>1745263.57</td>\n",
       "    </tr>\n",
       "    <tr>\n",
       "      <th>2</th>\n",
       "      <td>2019-04-17</td>\n",
       "      <td>BTCUSD</td>\n",
       "      <td>5234.4</td>\n",
       "      <td>5300</td>\n",
       "      <td>5206.8</td>\n",
       "      <td>5254.5</td>\n",
       "      <td>9283.95</td>\n",
       "      <td>48795493.23</td>\n",
       "    </tr>\n",
       "    <tr>\n",
       "      <th>3</th>\n",
       "      <td>2019-04-16</td>\n",
       "      <td>BTCUSD</td>\n",
       "      <td>5042.79</td>\n",
       "      <td>5256.7</td>\n",
       "      <td>5029.6</td>\n",
       "      <td>5234.4</td>\n",
       "      <td>8374.11</td>\n",
       "      <td>43200183.09</td>\n",
       "    </tr>\n",
       "    <tr>\n",
       "      <th>4</th>\n",
       "      <td>2019-04-15</td>\n",
       "      <td>BTCUSD</td>\n",
       "      <td>5194.4</td>\n",
       "      <td>5218.6</td>\n",
       "      <td>4977</td>\n",
       "      <td>5042.79</td>\n",
       "      <td>9520.05</td>\n",
       "      <td>48533007.73</td>\n",
       "    </tr>\n",
       "  </tbody>\n",
       "</table>\n",
       "</div>"
      ],
      "text/plain": [
       "      level_0 level_1  level_2 level_3 level_4  level_5 Created on 04-18-2019  \\\n",
       "0        Date  Symbol     Open    High     Low    Close            Volume BTC   \n",
       "1  2019-04-18  BTCUSD   5254.5    5300  5254.5   5293.4                330.72   \n",
       "2  2019-04-17  BTCUSD   5234.4    5300  5206.8   5254.5               9283.95   \n",
       "3  2019-04-16  BTCUSD  5042.79  5256.7  5029.6   5234.4               8374.11   \n",
       "4  2019-04-15  BTCUSD   5194.4  5218.6    4977  5042.79               9520.05   \n",
       "\n",
       "  https://www.CryptoDataDownload.com  \n",
       "0                         Volume USD  \n",
       "1                         1745263.57  \n",
       "2                        48795493.23  \n",
       "3                        43200183.09  \n",
       "4                        48533007.73  "
      ]
     },
     "execution_count": 4,
     "metadata": {},
     "output_type": "execute_result"
    }
   ],
   "source": [
    "BTC.reset_index().head()"
   ]
  },
  {
   "cell_type": "code",
   "execution_count": 5,
   "metadata": {},
   "outputs": [],
   "source": [
    "BTC = BTC.reset_index()"
   ]
  },
  {
   "cell_type": "code",
   "execution_count": 6,
   "metadata": {},
   "outputs": [],
   "source": [
    "colnames = BTC.loc[0].values"
   ]
  },
  {
   "cell_type": "code",
   "execution_count": 7,
   "metadata": {},
   "outputs": [],
   "source": [
    "BTC = BTC[1:]"
   ]
  },
  {
   "cell_type": "code",
   "execution_count": 8,
   "metadata": {},
   "outputs": [
    {
     "data": {
      "text/html": [
       "<div>\n",
       "<table border=\"1\" class=\"dataframe\">\n",
       "  <thead>\n",
       "    <tr style=\"text-align: right;\">\n",
       "      <th></th>\n",
       "      <th>level_0</th>\n",
       "      <th>level_1</th>\n",
       "      <th>level_2</th>\n",
       "      <th>level_3</th>\n",
       "      <th>level_4</th>\n",
       "      <th>level_5</th>\n",
       "      <th>Created on 04-18-2019</th>\n",
       "      <th>https://www.CryptoDataDownload.com</th>\n",
       "    </tr>\n",
       "  </thead>\n",
       "  <tbody>\n",
       "    <tr>\n",
       "      <th>1</th>\n",
       "      <td>2019-04-18</td>\n",
       "      <td>BTCUSD</td>\n",
       "      <td>5254.5</td>\n",
       "      <td>5300</td>\n",
       "      <td>5254.5</td>\n",
       "      <td>5293.4</td>\n",
       "      <td>330.72</td>\n",
       "      <td>1745263.57</td>\n",
       "    </tr>\n",
       "    <tr>\n",
       "      <th>2</th>\n",
       "      <td>2019-04-17</td>\n",
       "      <td>BTCUSD</td>\n",
       "      <td>5234.4</td>\n",
       "      <td>5300</td>\n",
       "      <td>5206.8</td>\n",
       "      <td>5254.5</td>\n",
       "      <td>9283.95</td>\n",
       "      <td>48795493.23</td>\n",
       "    </tr>\n",
       "    <tr>\n",
       "      <th>3</th>\n",
       "      <td>2019-04-16</td>\n",
       "      <td>BTCUSD</td>\n",
       "      <td>5042.79</td>\n",
       "      <td>5256.7</td>\n",
       "      <td>5029.6</td>\n",
       "      <td>5234.4</td>\n",
       "      <td>8374.11</td>\n",
       "      <td>43200183.09</td>\n",
       "    </tr>\n",
       "    <tr>\n",
       "      <th>4</th>\n",
       "      <td>2019-04-15</td>\n",
       "      <td>BTCUSD</td>\n",
       "      <td>5194.4</td>\n",
       "      <td>5218.6</td>\n",
       "      <td>4977</td>\n",
       "      <td>5042.79</td>\n",
       "      <td>9520.05</td>\n",
       "      <td>48533007.73</td>\n",
       "    </tr>\n",
       "    <tr>\n",
       "      <th>5</th>\n",
       "      <td>2019-04-14</td>\n",
       "      <td>BTCUSD</td>\n",
       "      <td>5103.74</td>\n",
       "      <td>5211.9</td>\n",
       "      <td>5054.8</td>\n",
       "      <td>5194.4</td>\n",
       "      <td>4144.21</td>\n",
       "      <td>21278989.0</td>\n",
       "    </tr>\n",
       "  </tbody>\n",
       "</table>\n",
       "</div>"
      ],
      "text/plain": [
       "      level_0 level_1  level_2 level_3 level_4  level_5 Created on 04-18-2019  \\\n",
       "1  2019-04-18  BTCUSD   5254.5    5300  5254.5   5293.4                330.72   \n",
       "2  2019-04-17  BTCUSD   5234.4    5300  5206.8   5254.5               9283.95   \n",
       "3  2019-04-16  BTCUSD  5042.79  5256.7  5029.6   5234.4               8374.11   \n",
       "4  2019-04-15  BTCUSD   5194.4  5218.6    4977  5042.79               9520.05   \n",
       "5  2019-04-14  BTCUSD  5103.74  5211.9  5054.8   5194.4               4144.21   \n",
       "\n",
       "  https://www.CryptoDataDownload.com  \n",
       "1                         1745263.57  \n",
       "2                        48795493.23  \n",
       "3                        43200183.09  \n",
       "4                        48533007.73  \n",
       "5                         21278989.0  "
      ]
     },
     "execution_count": 8,
     "metadata": {},
     "output_type": "execute_result"
    }
   ],
   "source": [
    "BTC.head()"
   ]
  },
  {
   "cell_type": "code",
   "execution_count": 9,
   "metadata": {},
   "outputs": [],
   "source": [
    "BTC.columns = colnames"
   ]
  },
  {
   "cell_type": "code",
   "execution_count": 10,
   "metadata": {
    "scrolled": false
   },
   "outputs": [
    {
     "data": {
      "text/html": [
       "<div>\n",
       "<table border=\"1\" class=\"dataframe\">\n",
       "  <thead>\n",
       "    <tr style=\"text-align: right;\">\n",
       "      <th></th>\n",
       "      <th>Date</th>\n",
       "      <th>Symbol</th>\n",
       "      <th>Open</th>\n",
       "      <th>High</th>\n",
       "      <th>Low</th>\n",
       "      <th>Close</th>\n",
       "      <th>Volume BTC</th>\n",
       "      <th>Volume USD</th>\n",
       "    </tr>\n",
       "  </thead>\n",
       "  <tbody>\n",
       "    <tr>\n",
       "      <th>1</th>\n",
       "      <td>2019-04-18</td>\n",
       "      <td>BTCUSD</td>\n",
       "      <td>5254.5</td>\n",
       "      <td>5300</td>\n",
       "      <td>5254.5</td>\n",
       "      <td>5293.4</td>\n",
       "      <td>330.72</td>\n",
       "      <td>1745263.57</td>\n",
       "    </tr>\n",
       "    <tr>\n",
       "      <th>2</th>\n",
       "      <td>2019-04-17</td>\n",
       "      <td>BTCUSD</td>\n",
       "      <td>5234.4</td>\n",
       "      <td>5300</td>\n",
       "      <td>5206.8</td>\n",
       "      <td>5254.5</td>\n",
       "      <td>9283.95</td>\n",
       "      <td>48795493.23</td>\n",
       "    </tr>\n",
       "    <tr>\n",
       "      <th>3</th>\n",
       "      <td>2019-04-16</td>\n",
       "      <td>BTCUSD</td>\n",
       "      <td>5042.79</td>\n",
       "      <td>5256.7</td>\n",
       "      <td>5029.6</td>\n",
       "      <td>5234.4</td>\n",
       "      <td>8374.11</td>\n",
       "      <td>43200183.09</td>\n",
       "    </tr>\n",
       "    <tr>\n",
       "      <th>4</th>\n",
       "      <td>2019-04-15</td>\n",
       "      <td>BTCUSD</td>\n",
       "      <td>5194.4</td>\n",
       "      <td>5218.6</td>\n",
       "      <td>4977</td>\n",
       "      <td>5042.79</td>\n",
       "      <td>9520.05</td>\n",
       "      <td>48533007.73</td>\n",
       "    </tr>\n",
       "    <tr>\n",
       "      <th>5</th>\n",
       "      <td>2019-04-14</td>\n",
       "      <td>BTCUSD</td>\n",
       "      <td>5103.74</td>\n",
       "      <td>5211.9</td>\n",
       "      <td>5054.8</td>\n",
       "      <td>5194.4</td>\n",
       "      <td>4144.21</td>\n",
       "      <td>21278989.0</td>\n",
       "    </tr>\n",
       "  </tbody>\n",
       "</table>\n",
       "</div>"
      ],
      "text/plain": [
       "         Date  Symbol     Open    High     Low    Close Volume BTC  \\\n",
       "1  2019-04-18  BTCUSD   5254.5    5300  5254.5   5293.4     330.72   \n",
       "2  2019-04-17  BTCUSD   5234.4    5300  5206.8   5254.5    9283.95   \n",
       "3  2019-04-16  BTCUSD  5042.79  5256.7  5029.6   5234.4    8374.11   \n",
       "4  2019-04-15  BTCUSD   5194.4  5218.6    4977  5042.79    9520.05   \n",
       "5  2019-04-14  BTCUSD  5103.74  5211.9  5054.8   5194.4    4144.21   \n",
       "\n",
       "    Volume USD  \n",
       "1   1745263.57  \n",
       "2  48795493.23  \n",
       "3  43200183.09  \n",
       "4  48533007.73  \n",
       "5   21278989.0  "
      ]
     },
     "execution_count": 10,
     "metadata": {},
     "output_type": "execute_result"
    }
   ],
   "source": [
    "BTC.head()"
   ]
  },
  {
   "cell_type": "code",
   "execution_count": 11,
   "metadata": {},
   "outputs": [],
   "source": [
    "BTC[\"Date\"] = pd.to_datetime(BTC.Date)"
   ]
  },
  {
   "cell_type": "code",
   "execution_count": 12,
   "metadata": {},
   "outputs": [
    {
     "data": {
      "text/html": [
       "<div>\n",
       "<table border=\"1\" class=\"dataframe\">\n",
       "  <thead>\n",
       "    <tr style=\"text-align: right;\">\n",
       "      <th></th>\n",
       "      <th>Date</th>\n",
       "      <th>Symbol</th>\n",
       "      <th>Open</th>\n",
       "      <th>High</th>\n",
       "      <th>Low</th>\n",
       "      <th>Close</th>\n",
       "      <th>Volume BTC</th>\n",
       "      <th>Volume USD</th>\n",
       "    </tr>\n",
       "  </thead>\n",
       "  <tbody>\n",
       "    <tr>\n",
       "      <th>1</th>\n",
       "      <td>2019-04-18</td>\n",
       "      <td>BTCUSD</td>\n",
       "      <td>5254.5</td>\n",
       "      <td>5300</td>\n",
       "      <td>5254.5</td>\n",
       "      <td>5293.4</td>\n",
       "      <td>330.72</td>\n",
       "      <td>1745263.57</td>\n",
       "    </tr>\n",
       "    <tr>\n",
       "      <th>2</th>\n",
       "      <td>2019-04-17</td>\n",
       "      <td>BTCUSD</td>\n",
       "      <td>5234.4</td>\n",
       "      <td>5300</td>\n",
       "      <td>5206.8</td>\n",
       "      <td>5254.5</td>\n",
       "      <td>9283.95</td>\n",
       "      <td>48795493.23</td>\n",
       "    </tr>\n",
       "    <tr>\n",
       "      <th>3</th>\n",
       "      <td>2019-04-16</td>\n",
       "      <td>BTCUSD</td>\n",
       "      <td>5042.79</td>\n",
       "      <td>5256.7</td>\n",
       "      <td>5029.6</td>\n",
       "      <td>5234.4</td>\n",
       "      <td>8374.11</td>\n",
       "      <td>43200183.09</td>\n",
       "    </tr>\n",
       "    <tr>\n",
       "      <th>4</th>\n",
       "      <td>2019-04-15</td>\n",
       "      <td>BTCUSD</td>\n",
       "      <td>5194.4</td>\n",
       "      <td>5218.6</td>\n",
       "      <td>4977</td>\n",
       "      <td>5042.79</td>\n",
       "      <td>9520.05</td>\n",
       "      <td>48533007.73</td>\n",
       "    </tr>\n",
       "    <tr>\n",
       "      <th>5</th>\n",
       "      <td>2019-04-14</td>\n",
       "      <td>BTCUSD</td>\n",
       "      <td>5103.74</td>\n",
       "      <td>5211.9</td>\n",
       "      <td>5054.8</td>\n",
       "      <td>5194.4</td>\n",
       "      <td>4144.21</td>\n",
       "      <td>21278989.0</td>\n",
       "    </tr>\n",
       "  </tbody>\n",
       "</table>\n",
       "</div>"
      ],
      "text/plain": [
       "        Date  Symbol     Open    High     Low    Close Volume BTC   Volume USD\n",
       "1 2019-04-18  BTCUSD   5254.5    5300  5254.5   5293.4     330.72   1745263.57\n",
       "2 2019-04-17  BTCUSD   5234.4    5300  5206.8   5254.5    9283.95  48795493.23\n",
       "3 2019-04-16  BTCUSD  5042.79  5256.7  5029.6   5234.4    8374.11  43200183.09\n",
       "4 2019-04-15  BTCUSD   5194.4  5218.6    4977  5042.79    9520.05  48533007.73\n",
       "5 2019-04-14  BTCUSD  5103.74  5211.9  5054.8   5194.4    4144.21   21278989.0"
      ]
     },
     "execution_count": 12,
     "metadata": {},
     "output_type": "execute_result"
    }
   ],
   "source": [
    "BTC.head()"
   ]
  },
  {
   "cell_type": "code",
   "execution_count": 13,
   "metadata": {},
   "outputs": [],
   "source": [
    "BTC.Close=pd.to_numeric(BTC.Close)"
   ]
  },
  {
   "cell_type": "code",
   "execution_count": 14,
   "metadata": {},
   "outputs": [],
   "source": [
    "BTC_Date = BTC"
   ]
  },
  {
   "cell_type": "code",
   "execution_count": 15,
   "metadata": {},
   "outputs": [],
   "source": [
    "BTC_Date.index = BTC_Date['Date']"
   ]
  },
  {
   "cell_type": "code",
   "execution_count": 16,
   "metadata": {},
   "outputs": [
    {
     "data": {
      "text/html": [
       "<div>\n",
       "<table border=\"1\" class=\"dataframe\">\n",
       "  <thead>\n",
       "    <tr style=\"text-align: right;\">\n",
       "      <th></th>\n",
       "      <th>Date</th>\n",
       "      <th>Symbol</th>\n",
       "      <th>Open</th>\n",
       "      <th>High</th>\n",
       "      <th>Low</th>\n",
       "      <th>Close</th>\n",
       "      <th>Volume BTC</th>\n",
       "      <th>Volume USD</th>\n",
       "    </tr>\n",
       "    <tr>\n",
       "      <th>Date</th>\n",
       "      <th></th>\n",
       "      <th></th>\n",
       "      <th></th>\n",
       "      <th></th>\n",
       "      <th></th>\n",
       "      <th></th>\n",
       "      <th></th>\n",
       "      <th></th>\n",
       "    </tr>\n",
       "  </thead>\n",
       "  <tbody>\n",
       "    <tr>\n",
       "      <th>2019-04-18</th>\n",
       "      <td>2019-04-18</td>\n",
       "      <td>BTCUSD</td>\n",
       "      <td>5254.5</td>\n",
       "      <td>5300</td>\n",
       "      <td>5254.5</td>\n",
       "      <td>5293.40</td>\n",
       "      <td>330.72</td>\n",
       "      <td>1745263.57</td>\n",
       "    </tr>\n",
       "    <tr>\n",
       "      <th>2019-04-17</th>\n",
       "      <td>2019-04-17</td>\n",
       "      <td>BTCUSD</td>\n",
       "      <td>5234.4</td>\n",
       "      <td>5300</td>\n",
       "      <td>5206.8</td>\n",
       "      <td>5254.50</td>\n",
       "      <td>9283.95</td>\n",
       "      <td>48795493.23</td>\n",
       "    </tr>\n",
       "    <tr>\n",
       "      <th>2019-04-16</th>\n",
       "      <td>2019-04-16</td>\n",
       "      <td>BTCUSD</td>\n",
       "      <td>5042.79</td>\n",
       "      <td>5256.7</td>\n",
       "      <td>5029.6</td>\n",
       "      <td>5234.40</td>\n",
       "      <td>8374.11</td>\n",
       "      <td>43200183.09</td>\n",
       "    </tr>\n",
       "    <tr>\n",
       "      <th>2019-04-15</th>\n",
       "      <td>2019-04-15</td>\n",
       "      <td>BTCUSD</td>\n",
       "      <td>5194.4</td>\n",
       "      <td>5218.6</td>\n",
       "      <td>4977</td>\n",
       "      <td>5042.79</td>\n",
       "      <td>9520.05</td>\n",
       "      <td>48533007.73</td>\n",
       "    </tr>\n",
       "    <tr>\n",
       "      <th>2019-04-14</th>\n",
       "      <td>2019-04-14</td>\n",
       "      <td>BTCUSD</td>\n",
       "      <td>5103.74</td>\n",
       "      <td>5211.9</td>\n",
       "      <td>5054.8</td>\n",
       "      <td>5194.40</td>\n",
       "      <td>4144.21</td>\n",
       "      <td>21278989.0</td>\n",
       "    </tr>\n",
       "  </tbody>\n",
       "</table>\n",
       "</div>"
      ],
      "text/plain": [
       "                 Date  Symbol     Open    High     Low    Close Volume BTC  \\\n",
       "Date                                                                         \n",
       "2019-04-18 2019-04-18  BTCUSD   5254.5    5300  5254.5  5293.40     330.72   \n",
       "2019-04-17 2019-04-17  BTCUSD   5234.4    5300  5206.8  5254.50    9283.95   \n",
       "2019-04-16 2019-04-16  BTCUSD  5042.79  5256.7  5029.6  5234.40    8374.11   \n",
       "2019-04-15 2019-04-15  BTCUSD   5194.4  5218.6    4977  5042.79    9520.05   \n",
       "2019-04-14 2019-04-14  BTCUSD  5103.74  5211.9  5054.8  5194.40    4144.21   \n",
       "\n",
       "             Volume USD  \n",
       "Date                     \n",
       "2019-04-18   1745263.57  \n",
       "2019-04-17  48795493.23  \n",
       "2019-04-16  43200183.09  \n",
       "2019-04-15  48533007.73  \n",
       "2019-04-14   21278989.0  "
      ]
     },
     "execution_count": 16,
     "metadata": {},
     "output_type": "execute_result"
    }
   ],
   "source": [
    "BTC_Date.head()"
   ]
  },
  {
   "cell_type": "code",
   "execution_count": 17,
   "metadata": {},
   "outputs": [
    {
     "data": {
      "text/html": [
       "<div>\n",
       "<table border=\"1\" class=\"dataframe\">\n",
       "  <thead>\n",
       "    <tr style=\"text-align: right;\">\n",
       "      <th></th>\n",
       "      <th>Symbol</th>\n",
       "      <th>Open</th>\n",
       "      <th>High</th>\n",
       "      <th>Low</th>\n",
       "      <th>Close</th>\n",
       "      <th>Volume BTC</th>\n",
       "      <th>Volume USD</th>\n",
       "    </tr>\n",
       "    <tr>\n",
       "      <th>Date</th>\n",
       "      <th></th>\n",
       "      <th></th>\n",
       "      <th></th>\n",
       "      <th></th>\n",
       "      <th></th>\n",
       "      <th></th>\n",
       "      <th></th>\n",
       "    </tr>\n",
       "  </thead>\n",
       "  <tbody>\n",
       "    <tr>\n",
       "      <th>2019-04-18</th>\n",
       "      <td>BTCUSD</td>\n",
       "      <td>5254.5</td>\n",
       "      <td>5300</td>\n",
       "      <td>5254.5</td>\n",
       "      <td>5293.40</td>\n",
       "      <td>330.72</td>\n",
       "      <td>1745263.57</td>\n",
       "    </tr>\n",
       "    <tr>\n",
       "      <th>2019-04-17</th>\n",
       "      <td>BTCUSD</td>\n",
       "      <td>5234.4</td>\n",
       "      <td>5300</td>\n",
       "      <td>5206.8</td>\n",
       "      <td>5254.50</td>\n",
       "      <td>9283.95</td>\n",
       "      <td>48795493.23</td>\n",
       "    </tr>\n",
       "    <tr>\n",
       "      <th>2019-04-16</th>\n",
       "      <td>BTCUSD</td>\n",
       "      <td>5042.79</td>\n",
       "      <td>5256.7</td>\n",
       "      <td>5029.6</td>\n",
       "      <td>5234.40</td>\n",
       "      <td>8374.11</td>\n",
       "      <td>43200183.09</td>\n",
       "    </tr>\n",
       "    <tr>\n",
       "      <th>2019-04-15</th>\n",
       "      <td>BTCUSD</td>\n",
       "      <td>5194.4</td>\n",
       "      <td>5218.6</td>\n",
       "      <td>4977</td>\n",
       "      <td>5042.79</td>\n",
       "      <td>9520.05</td>\n",
       "      <td>48533007.73</td>\n",
       "    </tr>\n",
       "    <tr>\n",
       "      <th>2019-04-14</th>\n",
       "      <td>BTCUSD</td>\n",
       "      <td>5103.74</td>\n",
       "      <td>5211.9</td>\n",
       "      <td>5054.8</td>\n",
       "      <td>5194.40</td>\n",
       "      <td>4144.21</td>\n",
       "      <td>21278989.0</td>\n",
       "    </tr>\n",
       "  </tbody>\n",
       "</table>\n",
       "</div>"
      ],
      "text/plain": [
       "            Symbol     Open    High     Low    Close Volume BTC   Volume USD\n",
       "Date                                                                        \n",
       "2019-04-18  BTCUSD   5254.5    5300  5254.5  5293.40     330.72   1745263.57\n",
       "2019-04-17  BTCUSD   5234.4    5300  5206.8  5254.50    9283.95  48795493.23\n",
       "2019-04-16  BTCUSD  5042.79  5256.7  5029.6  5234.40    8374.11  43200183.09\n",
       "2019-04-15  BTCUSD   5194.4  5218.6    4977  5042.79    9520.05  48533007.73\n",
       "2019-04-14  BTCUSD  5103.74  5211.9  5054.8  5194.40    4144.21   21278989.0"
      ]
     },
     "execution_count": 17,
     "metadata": {},
     "output_type": "execute_result"
    }
   ],
   "source": [
    "BTC_Date.drop(['Date'], axis=1).head()"
   ]
  },
  {
   "cell_type": "code",
   "execution_count": 34,
   "metadata": {
    "scrolled": true
   },
   "outputs": [
    {
     "data": {
      "text/plain": [
       "<matplotlib.axes._subplots.AxesSubplot at 0x191f9c91898>"
      ]
     },
     "execution_count": 34,
     "metadata": {},
     "output_type": "execute_result"
    },
    {
     "data": {
      "image/png": "[encoded data removed]",
      "text/plain": [
       "<matplotlib.figure.Figure at 0x191f99c01d0>"
      ]
     },
     "metadata": {
      "needs_background": "light"
     },
     "output_type": "display_data"
    }
   ],
   "source": [
    "BTC_Date.Close.plot(figsize = [15, 5])"
   ]
  },
  {
   "cell_type": "markdown",
   "metadata": {},
   "source": [
    "### 求出7天均線"
   ]
  },
  {
   "cell_type": "code",
   "execution_count": 22,
   "metadata": {},
   "outputs": [],
   "source": [
    "BTC_Date['ma7'] = BTC_Date.Close.rolling(window = 7).mean()"
   ]
  },
  {
   "cell_type": "code",
   "execution_count": 24,
   "metadata": {},
   "outputs": [
    {
     "data": {
      "text/html": [
       "<div>\n",
       "<table border=\"1\" class=\"dataframe\">\n",
       "  <thead>\n",
       "    <tr style=\"text-align: right;\">\n",
       "      <th></th>\n",
       "      <th>Date</th>\n",
       "      <th>Symbol</th>\n",
       "      <th>Open</th>\n",
       "      <th>High</th>\n",
       "      <th>Low</th>\n",
       "      <th>Close</th>\n",
       "      <th>Volume BTC</th>\n",
       "      <th>Volume USD</th>\n",
       "      <th>ma7</th>\n",
       "    </tr>\n",
       "    <tr>\n",
       "      <th>Date</th>\n",
       "      <th></th>\n",
       "      <th></th>\n",
       "      <th></th>\n",
       "      <th></th>\n",
       "      <th></th>\n",
       "      <th></th>\n",
       "      <th></th>\n",
       "      <th></th>\n",
       "      <th></th>\n",
       "    </tr>\n",
       "  </thead>\n",
       "  <tbody>\n",
       "    <tr>\n",
       "      <th>2019-04-18</th>\n",
       "      <td>2019-04-18</td>\n",
       "      <td>BTCUSD</td>\n",
       "      <td>5254.5</td>\n",
       "      <td>5300</td>\n",
       "      <td>5254.5</td>\n",
       "      <td>5293.40</td>\n",
       "      <td>330.72</td>\n",
       "      <td>1745263.57</td>\n",
       "      <td>NaN</td>\n",
       "    </tr>\n",
       "    <tr>\n",
       "      <th>2019-04-17</th>\n",
       "      <td>2019-04-17</td>\n",
       "      <td>BTCUSD</td>\n",
       "      <td>5234.4</td>\n",
       "      <td>5300</td>\n",
       "      <td>5206.8</td>\n",
       "      <td>5254.50</td>\n",
       "      <td>9283.95</td>\n",
       "      <td>48795493.23</td>\n",
       "      <td>NaN</td>\n",
       "    </tr>\n",
       "    <tr>\n",
       "      <th>2019-04-16</th>\n",
       "      <td>2019-04-16</td>\n",
       "      <td>BTCUSD</td>\n",
       "      <td>5042.79</td>\n",
       "      <td>5256.7</td>\n",
       "      <td>5029.6</td>\n",
       "      <td>5234.40</td>\n",
       "      <td>8374.11</td>\n",
       "      <td>43200183.09</td>\n",
       "      <td>NaN</td>\n",
       "    </tr>\n",
       "    <tr>\n",
       "      <th>2019-04-15</th>\n",
       "      <td>2019-04-15</td>\n",
       "      <td>BTCUSD</td>\n",
       "      <td>5194.4</td>\n",
       "      <td>5218.6</td>\n",
       "      <td>4977</td>\n",
       "      <td>5042.79</td>\n",
       "      <td>9520.05</td>\n",
       "      <td>48533007.73</td>\n",
       "      <td>NaN</td>\n",
       "    </tr>\n",
       "    <tr>\n",
       "      <th>2019-04-14</th>\n",
       "      <td>2019-04-14</td>\n",
       "      <td>BTCUSD</td>\n",
       "      <td>5103.74</td>\n",
       "      <td>5211.9</td>\n",
       "      <td>5054.8</td>\n",
       "      <td>5194.40</td>\n",
       "      <td>4144.21</td>\n",
       "      <td>21278989.0</td>\n",
       "      <td>NaN</td>\n",
       "    </tr>\n",
       "    <tr>\n",
       "      <th>2019-04-13</th>\n",
       "      <td>2019-04-13</td>\n",
       "      <td>BTCUSD</td>\n",
       "      <td>5114</td>\n",
       "      <td>5163</td>\n",
       "      <td>5070.2</td>\n",
       "      <td>5103.74</td>\n",
       "      <td>5184.22</td>\n",
       "      <td>26577794.17</td>\n",
       "      <td>NaN</td>\n",
       "    </tr>\n",
       "    <tr>\n",
       "      <th>2019-04-12</th>\n",
       "      <td>2019-04-12</td>\n",
       "      <td>BTCUSD</td>\n",
       "      <td>5059</td>\n",
       "      <td>5134.9</td>\n",
       "      <td>4934.7</td>\n",
       "      <td>5114.00</td>\n",
       "      <td>9215.46</td>\n",
       "      <td>46667815.13</td>\n",
       "      <td>5176.747143</td>\n",
       "    </tr>\n",
       "    <tr>\n",
       "      <th>2019-04-11</th>\n",
       "      <td>2019-04-11</td>\n",
       "      <td>BTCUSD</td>\n",
       "      <td>5310.1</td>\n",
       "      <td>5342.1</td>\n",
       "      <td>4952.4</td>\n",
       "      <td>5059.00</td>\n",
       "      <td>19423.5</td>\n",
       "      <td>99488302.96</td>\n",
       "      <td>5143.261429</td>\n",
       "    </tr>\n",
       "    <tr>\n",
       "      <th>2019-04-10</th>\n",
       "      <td>2019-04-10</td>\n",
       "      <td>BTCUSD</td>\n",
       "      <td>5216.3</td>\n",
       "      <td>5488</td>\n",
       "      <td>5193.5</td>\n",
       "      <td>5310.10</td>\n",
       "      <td>15766.03</td>\n",
       "      <td>84138707.68</td>\n",
       "      <td>5151.204286</td>\n",
       "    </tr>\n",
       "    <tr>\n",
       "      <th>2019-04-09</th>\n",
       "      <td>2019-04-09</td>\n",
       "      <td>BTCUSD</td>\n",
       "      <td>5312.4</td>\n",
       "      <td>5312.4</td>\n",
       "      <td>5170</td>\n",
       "      <td>5216.30</td>\n",
       "      <td>11873.89</td>\n",
       "      <td>62234999.76</td>\n",
       "      <td>5148.618571</td>\n",
       "    </tr>\n",
       "  </tbody>\n",
       "</table>\n",
       "</div>"
      ],
      "text/plain": [
       "                 Date  Symbol     Open    High     Low    Close Volume BTC  \\\n",
       "Date                                                                         \n",
       "2019-04-18 2019-04-18  BTCUSD   5254.5    5300  5254.5  5293.40     330.72   \n",
       "2019-04-17 2019-04-17  BTCUSD   5234.4    5300  5206.8  5254.50    9283.95   \n",
       "2019-04-16 2019-04-16  BTCUSD  5042.79  5256.7  5029.6  5234.40    8374.11   \n",
       "2019-04-15 2019-04-15  BTCUSD   5194.4  5218.6    4977  5042.79    9520.05   \n",
       "2019-04-14 2019-04-14  BTCUSD  5103.74  5211.9  5054.8  5194.40    4144.21   \n",
       "2019-04-13 2019-04-13  BTCUSD     5114    5163  5070.2  5103.74    5184.22   \n",
       "2019-04-12 2019-04-12  BTCUSD     5059  5134.9  4934.7  5114.00    9215.46   \n",
       "2019-04-11 2019-04-11  BTCUSD   5310.1  5342.1  4952.4  5059.00    19423.5   \n",
       "2019-04-10 2019-04-10  BTCUSD   5216.3    5488  5193.5  5310.10   15766.03   \n",
       "2019-04-09 2019-04-09  BTCUSD   5312.4  5312.4    5170  5216.30   11873.89   \n",
       "\n",
       "             Volume USD          ma7  \n",
       "Date                                  \n",
       "2019-04-18   1745263.57          NaN  \n",
       "2019-04-17  48795493.23          NaN  \n",
       "2019-04-16  43200183.09          NaN  \n",
       "2019-04-15  48533007.73          NaN  \n",
       "2019-04-14   21278989.0          NaN  \n",
       "2019-04-13  26577794.17          NaN  \n",
       "2019-04-12  46667815.13  5176.747143  \n",
       "2019-04-11  99488302.96  5143.261429  \n",
       "2019-04-10  84138707.68  5151.204286  \n",
       "2019-04-09  62234999.76  5148.618571  "
      ]
     },
     "execution_count": 24,
     "metadata": {},
     "output_type": "execute_result"
    }
   ],
   "source": [
    "BTC_Date.head(10)"
   ]
  },
  {
   "cell_type": "code",
   "execution_count": 38,
   "metadata": {
    "scrolled": true
   },
   "outputs": [
    {
     "data": {
      "text/plain": [
       "<matplotlib.axes._subplots.AxesSubplot at 0x191fbbe0898>"
      ]
     },
     "execution_count": 38,
     "metadata": {},
     "output_type": "execute_result"
    },
    {
     "data": {
      "image/png": "[encoded data removed]",
      "text/plain": [
       "<matplotlib.figure.Figure at 0x191fbaee1d0>"
      ]
     },
     "metadata": {
      "needs_background": "light"
     },
     "output_type": "display_data"
    }
   ],
   "source": [
    "BTC_Date[['Close', 'ma7']].plot(figsize=[15, 5])"
   ]
  },
  {
   "cell_type": "markdown",
   "metadata": {},
   "source": [
    "### 聚焦2019-04-01到現在的數據"
   ]
  },
  {
   "cell_type": "code",
   "execution_count": 39,
   "metadata": {},
   "outputs": [],
   "source": [
    "BTC201904 = BTC_Date[BTC_Date['Date'] >= '2019-04-01']"
   ]
  },
  {
   "cell_type": "code",
   "execution_count": 40,
   "metadata": {},
   "outputs": [
    {
     "data": {
      "text/plain": [
       "<matplotlib.axes._subplots.AxesSubplot at 0x191fbcaa780>"
      ]
     },
     "execution_count": 40,
     "metadata": {},
     "output_type": "execute_result"
    },
    {
     "data": {
      "image/png": "[encoded data removed]",
      "text/plain": [
       "<matplotlib.figure.Figure at 0x191fbbd60f0>"
      ]
     },
     "metadata": {
      "needs_background": "light"
     },
     "output_type": "display_data"
    }
   ],
   "source": [
    "BTC201904[['Close', 'ma7']].plot(figsize=[15, 5])"
   ]
  },
  {
   "cell_type": "markdown",
   "metadata": {},
   "source": [
    "### 當藍線低於均線時就是一個不錯的買點"
   ]
  },
  {
   "cell_type": "code",
   "execution_count": null,
   "metadata": {},
   "outputs": [],
   "source": []
  }
 ],
 "metadata": {
  "kernelspec": {
   "display_name": "Python 3",
   "language": "python",
   "name": "python3"
  },
  "language_info": {
   "codemirror_mode": {
    "name": "ipython",
    "version": 3
   },
   "file_extension": ".py",
   "mimetype": "text/x-python",
   "name": "python",
   "nbconvert_exporter": "python",
   "pygments_lexer": "ipython3",
   "version": "3.6.8"
  }
 },
 "nbformat": 4,
 "nbformat_minor": 2
}
