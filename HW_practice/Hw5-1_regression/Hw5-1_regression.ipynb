{
 "cells": [
  {
   "cell_type": "code",
   "execution_count": 1,
   "metadata": {},
   "outputs": [],
   "source": [
    "%matplotlib inline\n",
    "\n",
    "import numpy as np\n",
    "import matplotlib.pyplot as plt\n",
    "import pandas as pd\n",
    "from sklearn.linear_model import LinearRegression"
   ]
  },
  {
   "cell_type": "markdown",
   "metadata": {},
   "source": [
    "對於目前主流的兩種幣種  \n",
    "Bitcoin與Ethereum的價格進行迴歸分析\n",
    "觀察Bitcoin價格對Ethereum的價格的影響\n",
    "\n",
    "資料來源:https://www.kaggle.com/sudalairajkumar/cryptocurrencypricehistory "
   ]
  },
  {
   "cell_type": "code",
   "execution_count": 2,
   "metadata": {},
   "outputs": [],
   "source": [
    "BTC = pd.read_csv(\"bitcoin_price.csv\")"
   ]
  },
  {
   "cell_type": "code",
   "execution_count": 3,
   "metadata": {},
   "outputs": [],
   "source": [
    "BTC = BTC.rename(columns = {'Close':'BTC_Close'})"
   ]
  },
  {
   "cell_type": "code",
   "execution_count": 4,
   "metadata": {
    "scrolled": true
   },
   "outputs": [
    {
     "data": {
      "text/html": [
       "<div>\n",
       "<table border=\"1\" class=\"dataframe\">\n",
       "  <thead>\n",
       "    <tr style=\"text-align: right;\">\n",
       "      <th></th>\n",
       "      <th>Date</th>\n",
       "      <th>Open</th>\n",
       "      <th>High</th>\n",
       "      <th>Low</th>\n",
       "      <th>BTC_Close</th>\n",
       "      <th>Volume</th>\n",
       "      <th>Market Cap</th>\n",
       "    </tr>\n",
       "  </thead>\n",
       "  <tbody>\n",
       "    <tr>\n",
       "      <th>0</th>\n",
       "      <td>Feb 20, 2018</td>\n",
       "      <td>11231.8</td>\n",
       "      <td>11958.5</td>\n",
       "      <td>11231.80</td>\n",
       "      <td>11403.7</td>\n",
       "      <td>9,926,540,000</td>\n",
       "      <td>189,536,000,000</td>\n",
       "    </tr>\n",
       "    <tr>\n",
       "      <th>1</th>\n",
       "      <td>Feb 19, 2018</td>\n",
       "      <td>10552.6</td>\n",
       "      <td>11273.8</td>\n",
       "      <td>10513.20</td>\n",
       "      <td>11225.3</td>\n",
       "      <td>7,652,090,000</td>\n",
       "      <td>178,055,000,000</td>\n",
       "    </tr>\n",
       "    <tr>\n",
       "      <th>2</th>\n",
       "      <td>Feb 18, 2018</td>\n",
       "      <td>11123.4</td>\n",
       "      <td>11349.8</td>\n",
       "      <td>10326.00</td>\n",
       "      <td>10551.8</td>\n",
       "      <td>8,744,010,000</td>\n",
       "      <td>187,663,000,000</td>\n",
       "    </tr>\n",
       "    <tr>\n",
       "      <th>3</th>\n",
       "      <td>Feb 17, 2018</td>\n",
       "      <td>10207.5</td>\n",
       "      <td>11139.5</td>\n",
       "      <td>10149.40</td>\n",
       "      <td>11112.7</td>\n",
       "      <td>8,660,880,000</td>\n",
       "      <td>172,191,000,000</td>\n",
       "    </tr>\n",
       "    <tr>\n",
       "      <th>4</th>\n",
       "      <td>Feb 16, 2018</td>\n",
       "      <td>10135.7</td>\n",
       "      <td>10324.1</td>\n",
       "      <td>9824.82</td>\n",
       "      <td>10233.9</td>\n",
       "      <td>7,296,160,000</td>\n",
       "      <td>170,960,000,000</td>\n",
       "    </tr>\n",
       "  </tbody>\n",
       "</table>\n",
       "</div>"
      ],
      "text/plain": [
       "           Date     Open     High       Low  BTC_Close         Volume  \\\n",
       "0  Feb 20, 2018  11231.8  11958.5  11231.80    11403.7  9,926,540,000   \n",
       "1  Feb 19, 2018  10552.6  11273.8  10513.20    11225.3  7,652,090,000   \n",
       "2  Feb 18, 2018  11123.4  11349.8  10326.00    10551.8  8,744,010,000   \n",
       "3  Feb 17, 2018  10207.5  11139.5  10149.40    11112.7  8,660,880,000   \n",
       "4  Feb 16, 2018  10135.7  10324.1   9824.82    10233.9  7,296,160,000   \n",
       "\n",
       "        Market Cap  \n",
       "0  189,536,000,000  \n",
       "1  178,055,000,000  \n",
       "2  187,663,000,000  \n",
       "3  172,191,000,000  \n",
       "4  170,960,000,000  "
      ]
     },
     "execution_count": 4,
     "metadata": {},
     "output_type": "execute_result"
    }
   ],
   "source": [
    "BTC.head()"
   ]
  },
  {
   "cell_type": "code",
   "execution_count": 5,
   "metadata": {},
   "outputs": [],
   "source": [
    "ETH = pd.read_csv(\"ethereum_price.csv\")"
   ]
  },
  {
   "cell_type": "code",
   "execution_count": 6,
   "metadata": {},
   "outputs": [],
   "source": [
    "ETH = ETH.rename(columns = {'Close':'ETH_Close'})"
   ]
  },
  {
   "cell_type": "code",
   "execution_count": 7,
   "metadata": {},
   "outputs": [],
   "source": [
    "ETH = ETH.rename(columns = {'Date':'ETH Date'})"
   ]
  },
  {
   "cell_type": "code",
   "execution_count": 8,
   "metadata": {},
   "outputs": [
    {
     "data": {
      "text/html": [
       "<div>\n",
       "<table border=\"1\" class=\"dataframe\">\n",
       "  <thead>\n",
       "    <tr style=\"text-align: right;\">\n",
       "      <th></th>\n",
       "      <th>ETH Date</th>\n",
       "      <th>Open</th>\n",
       "      <th>High</th>\n",
       "      <th>Low</th>\n",
       "      <th>ETH_Close</th>\n",
       "      <th>Volume</th>\n",
       "      <th>Market Cap</th>\n",
       "    </tr>\n",
       "  </thead>\n",
       "  <tbody>\n",
       "    <tr>\n",
       "      <th>0</th>\n",
       "      <td>Feb 20, 2018</td>\n",
       "      <td>943.57</td>\n",
       "      <td>965.26</td>\n",
       "      <td>892.95</td>\n",
       "      <td>895.37</td>\n",
       "      <td>2,545,260,000</td>\n",
       "      <td>92,206,500,000</td>\n",
       "    </tr>\n",
       "    <tr>\n",
       "      <th>1</th>\n",
       "      <td>Feb 19, 2018</td>\n",
       "      <td>921.67</td>\n",
       "      <td>957.78</td>\n",
       "      <td>921.55</td>\n",
       "      <td>943.87</td>\n",
       "      <td>2,169,020,000</td>\n",
       "      <td>90,047,700,000</td>\n",
       "    </tr>\n",
       "    <tr>\n",
       "      <th>2</th>\n",
       "      <td>Feb 18, 2018</td>\n",
       "      <td>973.35</td>\n",
       "      <td>982.93</td>\n",
       "      <td>915.45</td>\n",
       "      <td>923.92</td>\n",
       "      <td>2,567,290,000</td>\n",
       "      <td>95,077,100,000</td>\n",
       "    </tr>\n",
       "    <tr>\n",
       "      <th>3</th>\n",
       "      <td>Feb 17, 2018</td>\n",
       "      <td>944.75</td>\n",
       "      <td>976.60</td>\n",
       "      <td>940.75</td>\n",
       "      <td>974.12</td>\n",
       "      <td>2,525,720,000</td>\n",
       "      <td>92,264,000,000</td>\n",
       "    </tr>\n",
       "    <tr>\n",
       "      <th>4</th>\n",
       "      <td>Feb 16, 2018</td>\n",
       "      <td>934.79</td>\n",
       "      <td>950.00</td>\n",
       "      <td>917.85</td>\n",
       "      <td>944.21</td>\n",
       "      <td>2,369,450,000</td>\n",
       "      <td>91,272,100,000</td>\n",
       "    </tr>\n",
       "  </tbody>\n",
       "</table>\n",
       "</div>"
      ],
      "text/plain": [
       "       ETH Date    Open    High     Low  ETH_Close         Volume  \\\n",
       "0  Feb 20, 2018  943.57  965.26  892.95     895.37  2,545,260,000   \n",
       "1  Feb 19, 2018  921.67  957.78  921.55     943.87  2,169,020,000   \n",
       "2  Feb 18, 2018  973.35  982.93  915.45     923.92  2,567,290,000   \n",
       "3  Feb 17, 2018  944.75  976.60  940.75     974.12  2,525,720,000   \n",
       "4  Feb 16, 2018  934.79  950.00  917.85     944.21  2,369,450,000   \n",
       "\n",
       "       Market Cap  \n",
       "0  92,206,500,000  \n",
       "1  90,047,700,000  \n",
       "2  95,077,100,000  \n",
       "3  92,264,000,000  \n",
       "4  91,272,100,000  "
      ]
     },
     "execution_count": 8,
     "metadata": {},
     "output_type": "execute_result"
    }
   ],
   "source": [
    "ETH.head()"
   ]
  },
  {
   "cell_type": "code",
   "execution_count": 9,
   "metadata": {},
   "outputs": [
    {
     "data": {
      "text/plain": [
       "1760"
      ]
     },
     "execution_count": 9,
     "metadata": {},
     "output_type": "execute_result"
    }
   ],
   "source": [
    "len(BTC)"
   ]
  },
  {
   "cell_type": "code",
   "execution_count": 10,
   "metadata": {},
   "outputs": [
    {
     "data": {
      "text/plain": [
       "929"
      ]
     },
     "execution_count": 10,
     "metadata": {},
     "output_type": "execute_result"
    }
   ],
   "source": [
    "len(ETH)"
   ]
  },
  {
   "cell_type": "code",
   "execution_count": 11,
   "metadata": {},
   "outputs": [],
   "source": [
    "BTC = BTC[:929]"
   ]
  },
  {
   "cell_type": "code",
   "execution_count": 12,
   "metadata": {},
   "outputs": [
    {
     "data": {
      "text/plain": [
       "929"
      ]
     },
     "execution_count": 12,
     "metadata": {},
     "output_type": "execute_result"
    }
   ],
   "source": [
    "len(BTC)"
   ]
  },
  {
   "cell_type": "code",
   "execution_count": 13,
   "metadata": {},
   "outputs": [],
   "source": [
    "price = pd.concat([BTC, ETH], axis = 1)"
   ]
  },
  {
   "cell_type": "code",
   "execution_count": 14,
   "metadata": {},
   "outputs": [],
   "source": [
    "price.drop_duplicates(subset = \"Date\", keep = 'first', inplace=True)"
   ]
  },
  {
   "cell_type": "code",
   "execution_count": 15,
   "metadata": {
    "scrolled": false
   },
   "outputs": [
    {
     "data": {
      "text/html": [
       "<div>\n",
       "<table border=\"1\" class=\"dataframe\">\n",
       "  <thead>\n",
       "    <tr style=\"text-align: right;\">\n",
       "      <th></th>\n",
       "      <th>Date</th>\n",
       "      <th>Open</th>\n",
       "      <th>High</th>\n",
       "      <th>Low</th>\n",
       "      <th>BTC_Close</th>\n",
       "      <th>Volume</th>\n",
       "      <th>Market Cap</th>\n",
       "      <th>ETH Date</th>\n",
       "      <th>Open</th>\n",
       "      <th>High</th>\n",
       "      <th>Low</th>\n",
       "      <th>ETH_Close</th>\n",
       "      <th>Volume</th>\n",
       "      <th>Market Cap</th>\n",
       "    </tr>\n",
       "  </thead>\n",
       "  <tbody>\n",
       "    <tr>\n",
       "      <th>0</th>\n",
       "      <td>Feb 20, 2018</td>\n",
       "      <td>11231.8</td>\n",
       "      <td>11958.5</td>\n",
       "      <td>11231.80</td>\n",
       "      <td>11403.7</td>\n",
       "      <td>9,926,540,000</td>\n",
       "      <td>189,536,000,000</td>\n",
       "      <td>Feb 20, 2018</td>\n",
       "      <td>943.57</td>\n",
       "      <td>965.26</td>\n",
       "      <td>892.95</td>\n",
       "      <td>895.37</td>\n",
       "      <td>2,545,260,000</td>\n",
       "      <td>92,206,500,000</td>\n",
       "    </tr>\n",
       "    <tr>\n",
       "      <th>1</th>\n",
       "      <td>Feb 19, 2018</td>\n",
       "      <td>10552.6</td>\n",
       "      <td>11273.8</td>\n",
       "      <td>10513.20</td>\n",
       "      <td>11225.3</td>\n",
       "      <td>7,652,090,000</td>\n",
       "      <td>178,055,000,000</td>\n",
       "      <td>Feb 19, 2018</td>\n",
       "      <td>921.67</td>\n",
       "      <td>957.78</td>\n",
       "      <td>921.55</td>\n",
       "      <td>943.87</td>\n",
       "      <td>2,169,020,000</td>\n",
       "      <td>90,047,700,000</td>\n",
       "    </tr>\n",
       "    <tr>\n",
       "      <th>2</th>\n",
       "      <td>Feb 18, 2018</td>\n",
       "      <td>11123.4</td>\n",
       "      <td>11349.8</td>\n",
       "      <td>10326.00</td>\n",
       "      <td>10551.8</td>\n",
       "      <td>8,744,010,000</td>\n",
       "      <td>187,663,000,000</td>\n",
       "      <td>Feb 18, 2018</td>\n",
       "      <td>973.35</td>\n",
       "      <td>982.93</td>\n",
       "      <td>915.45</td>\n",
       "      <td>923.92</td>\n",
       "      <td>2,567,290,000</td>\n",
       "      <td>95,077,100,000</td>\n",
       "    </tr>\n",
       "    <tr>\n",
       "      <th>3</th>\n",
       "      <td>Feb 17, 2018</td>\n",
       "      <td>10207.5</td>\n",
       "      <td>11139.5</td>\n",
       "      <td>10149.40</td>\n",
       "      <td>11112.7</td>\n",
       "      <td>8,660,880,000</td>\n",
       "      <td>172,191,000,000</td>\n",
       "      <td>Feb 17, 2018</td>\n",
       "      <td>944.75</td>\n",
       "      <td>976.60</td>\n",
       "      <td>940.75</td>\n",
       "      <td>974.12</td>\n",
       "      <td>2,525,720,000</td>\n",
       "      <td>92,264,000,000</td>\n",
       "    </tr>\n",
       "    <tr>\n",
       "      <th>4</th>\n",
       "      <td>Feb 16, 2018</td>\n",
       "      <td>10135.7</td>\n",
       "      <td>10324.1</td>\n",
       "      <td>9824.82</td>\n",
       "      <td>10233.9</td>\n",
       "      <td>7,296,160,000</td>\n",
       "      <td>170,960,000,000</td>\n",
       "      <td>Feb 16, 2018</td>\n",
       "      <td>934.79</td>\n",
       "      <td>950.00</td>\n",
       "      <td>917.85</td>\n",
       "      <td>944.21</td>\n",
       "      <td>2,369,450,000</td>\n",
       "      <td>91,272,100,000</td>\n",
       "    </tr>\n",
       "  </tbody>\n",
       "</table>\n",
       "</div>"
      ],
      "text/plain": [
       "           Date     Open     High       Low  BTC_Close         Volume  \\\n",
       "0  Feb 20, 2018  11231.8  11958.5  11231.80    11403.7  9,926,540,000   \n",
       "1  Feb 19, 2018  10552.6  11273.8  10513.20    11225.3  7,652,090,000   \n",
       "2  Feb 18, 2018  11123.4  11349.8  10326.00    10551.8  8,744,010,000   \n",
       "3  Feb 17, 2018  10207.5  11139.5  10149.40    11112.7  8,660,880,000   \n",
       "4  Feb 16, 2018  10135.7  10324.1   9824.82    10233.9  7,296,160,000   \n",
       "\n",
       "        Market Cap      ETH Date    Open    High     Low  ETH_Close  \\\n",
       "0  189,536,000,000  Feb 20, 2018  943.57  965.26  892.95     895.37   \n",
       "1  178,055,000,000  Feb 19, 2018  921.67  957.78  921.55     943.87   \n",
       "2  187,663,000,000  Feb 18, 2018  973.35  982.93  915.45     923.92   \n",
       "3  172,191,000,000  Feb 17, 2018  944.75  976.60  940.75     974.12   \n",
       "4  170,960,000,000  Feb 16, 2018  934.79  950.00  917.85     944.21   \n",
       "\n",
       "          Volume      Market Cap  \n",
       "0  2,545,260,000  92,206,500,000  \n",
       "1  2,169,020,000  90,047,700,000  \n",
       "2  2,567,290,000  95,077,100,000  \n",
       "3  2,525,720,000  92,264,000,000  \n",
       "4  2,369,450,000  91,272,100,000  "
      ]
     },
     "execution_count": 15,
     "metadata": {},
     "output_type": "execute_result"
    }
   ],
   "source": [
    "price.head()"
   ]
  },
  {
   "cell_type": "code",
   "execution_count": 22,
   "metadata": {},
   "outputs": [],
   "source": [
    "price_close = price.loc[:,[\"Date\",\"BTC_Close\",\"ETH_Close\"]]"
   ]
  },
  {
   "cell_type": "code",
   "execution_count": 23,
   "metadata": {},
   "outputs": [
    {
     "data": {
      "text/html": [
       "<div>\n",
       "<table border=\"1\" class=\"dataframe\">\n",
       "  <thead>\n",
       "    <tr style=\"text-align: right;\">\n",
       "      <th></th>\n",
       "      <th>Date</th>\n",
       "      <th>BTC_Close</th>\n",
       "      <th>ETH_Close</th>\n",
       "    </tr>\n",
       "  </thead>\n",
       "  <tbody>\n",
       "    <tr>\n",
       "      <th>0</th>\n",
       "      <td>Feb 20, 2018</td>\n",
       "      <td>11403.7</td>\n",
       "      <td>895.37</td>\n",
       "    </tr>\n",
       "    <tr>\n",
       "      <th>1</th>\n",
       "      <td>Feb 19, 2018</td>\n",
       "      <td>11225.3</td>\n",
       "      <td>943.87</td>\n",
       "    </tr>\n",
       "    <tr>\n",
       "      <th>2</th>\n",
       "      <td>Feb 18, 2018</td>\n",
       "      <td>10551.8</td>\n",
       "      <td>923.92</td>\n",
       "    </tr>\n",
       "    <tr>\n",
       "      <th>3</th>\n",
       "      <td>Feb 17, 2018</td>\n",
       "      <td>11112.7</td>\n",
       "      <td>974.12</td>\n",
       "    </tr>\n",
       "    <tr>\n",
       "      <th>4</th>\n",
       "      <td>Feb 16, 2018</td>\n",
       "      <td>10233.9</td>\n",
       "      <td>944.21</td>\n",
       "    </tr>\n",
       "  </tbody>\n",
       "</table>\n",
       "</div>"
      ],
      "text/plain": [
       "           Date  BTC_Close  ETH_Close\n",
       "0  Feb 20, 2018    11403.7     895.37\n",
       "1  Feb 19, 2018    11225.3     943.87\n",
       "2  Feb 18, 2018    10551.8     923.92\n",
       "3  Feb 17, 2018    11112.7     974.12\n",
       "4  Feb 16, 2018    10233.9     944.21"
      ]
     },
     "execution_count": 23,
     "metadata": {},
     "output_type": "execute_result"
    }
   ],
   "source": [
    "price_close.head()"
   ]
  },
  {
   "cell_type": "code",
   "execution_count": 24,
   "metadata": {},
   "outputs": [],
   "source": [
    "regr = LinearRegression()"
   ]
  },
  {
   "cell_type": "code",
   "execution_count": 28,
   "metadata": {},
   "outputs": [],
   "source": [
    "X = price_close.BTC_Close.values.reshape(len(price_close.BTC_Close), 1)"
   ]
  },
  {
   "cell_type": "code",
   "execution_count": 30,
   "metadata": {},
   "outputs": [],
   "source": [
    "Y = price_close.ETH_Close.values.reshape(len(price_close.ETH_Close), 1)"
   ]
  },
  {
   "cell_type": "code",
   "execution_count": 31,
   "metadata": {},
   "outputs": [
    {
     "data": {
      "text/plain": [
       "LinearRegression(copy_X=True, fit_intercept=True, n_jobs=1, normalize=False)"
      ]
     },
     "execution_count": 31,
     "metadata": {},
     "output_type": "execute_result"
    }
   ],
   "source": [
    "regr.fit(X, Y)"
   ]
  },
  {
   "cell_type": "code",
   "execution_count": 32,
   "metadata": {},
   "outputs": [],
   "source": [
    "Y = regr.predict(X)"
   ]
  },
  {
   "cell_type": "code",
   "execution_count": 37,
   "metadata": {},
   "outputs": [
    {
     "data": {
      "text/plain": [
       "<matplotlib.text.Text at 0x1fe021e2518>"
      ]
     },
     "execution_count": 37,
     "metadata": {},
     "output_type": "execute_result"
    },
    {
     "data": {
      "image/png": "[encoded data removed]",
      "text/plain": [
       "<matplotlib.figure.Figure at 0x1fe022aa320>"
      ]
     },
     "metadata": {
      "needs_background": "light"
     },
     "output_type": "display_data"
    }
   ],
   "source": [
    "plt.scatter(X, Y)\n",
    "plt.plot(X, Y, 'r' )\n",
    "\n",
    "plt.xlabel(\"BTC/USD\")\n",
    "plt.ylabel('ETH/USD')"
   ]
  },
  {
   "cell_type": "code",
   "execution_count": null,
   "metadata": {},
   "outputs": [],
   "source": []
  }
 ],
 "metadata": {
  "kernelspec": {
   "display_name": "Python 3",
   "language": "python",
   "name": "python3"
  },
  "language_info": {
   "codemirror_mode": {
    "name": "ipython",
    "version": 3
   },
   "file_extension": ".py",
   "mimetype": "text/x-python",
   "name": "python",
   "nbconvert_exporter": "python",
   "pygments_lexer": "ipython3",
   "version": "3.6.8"
  }
 },
 "nbformat": 4,
 "nbformat_minor": 2
}
