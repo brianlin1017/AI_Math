{
 "cells": [
  {
   "cell_type": "code",
   "execution_count": 1,
   "metadata": {},
   "outputs": [],
   "source": [
    "%matplotlib inline\n",
    "\n",
    "import numpy as np\n",
    "import matplotlib.pyplot as plt\n",
    "import pandas as pd\n",
    "import matplotlib as mpl"
   ]
  },
  {
   "cell_type": "code",
   "execution_count": 2,
   "metadata": {},
   "outputs": [],
   "source": [
    "mpl.rc('font', family='Noto Sans CJK TC')"
   ]
  },
  {
   "cell_type": "markdown",
   "metadata": {},
   "source": [
    "[f.name for f in mpl.font_manager.fontManager.ttflist]"
   ]
  },
  {
   "cell_type": "code",
   "execution_count": 4,
   "metadata": {},
   "outputs": [],
   "source": [
    "df = pd.read_html(\"https://zh.wikipedia.org/wiki/%E6%91%A9%E5%A4%A9%E5%A4%A7%E6%A8%93%E5%88%97%E8%A1%A8\")"
   ]
  },
  {
   "cell_type": "markdown",
   "metadata": {},
   "source": [
    "摩天大樓列表\n",
    "\n",
    "依結構體或建築頂部高度排名的最高摩天大樓排名（270公尺以上）\n",
    "\n",
    "這份排名從2011年起排列，並將被摧毀的大廈從表中除名。\n",
    "結構體或建築頂部高度，它包含最高的建築細節，排名相等的表明有兩棟或以上建築高度相同。\n",
    "\n",
    "此列表不包含未施工的摩天大樓，以及不屬於摩天大樓的非建築結構物，譬如東京天空樹、廣州電視塔、西恩塔、華沙電台廣播塔之類的通訊塔，橋樑或鑽油平台 煙囪等的獨立建築。可另參見高塔列表"
   ]
  },
  {
   "cell_type": "code",
   "execution_count": 5,
   "metadata": {},
   "outputs": [
    {
     "data": {
      "text/plain": [
       "13"
      ]
     },
     "execution_count": 5,
     "metadata": {},
     "output_type": "execute_result"
    }
   ],
   "source": [
    "len(df)"
   ]
  },
  {
   "cell_type": "code",
   "execution_count": 6,
   "metadata": {},
   "outputs": [],
   "source": [
    "building = df[1]"
   ]
  },
  {
   "cell_type": "code",
   "execution_count": 7,
   "metadata": {},
   "outputs": [
    {
     "data": {
      "text/html": [
       "<div>\n",
       "<table border=\"1\" class=\"dataframe\">\n",
       "  <thead>\n",
       "    <tr style=\"text-align: right;\">\n",
       "      <th></th>\n",
       "      <th>0</th>\n",
       "      <th>1</th>\n",
       "      <th>2</th>\n",
       "      <th>3</th>\n",
       "      <th>4</th>\n",
       "      <th>5</th>\n",
       "      <th>6</th>\n",
       "      <th>7</th>\n",
       "      <th>8</th>\n",
       "    </tr>\n",
       "  </thead>\n",
       "  <tbody>\n",
       "    <tr>\n",
       "      <th>0</th>\n",
       "      <td>排名</td>\n",
       "      <td>名稱[A][2]</td>\n",
       "      <td>城市</td>\n",
       "      <td>國家</td>\n",
       "      <td>所在洲</td>\n",
       "      <td>高度</td>\n",
       "      <td>樓層</td>\n",
       "      <td>落成年份</td>\n",
       "      <td>NaN</td>\n",
       "    </tr>\n",
       "    <tr>\n",
       "      <th>1</th>\n",
       "      <td>1</td>\n",
       "      <td>哈里發塔</td>\n",
       "      <td>杜拜</td>\n",
       "      <td>阿联酋</td>\n",
       "      <td>亞洲</td>\n",
       "      <td>828米</td>\n",
       "      <td>2,722英尺</td>\n",
       "      <td>169</td>\n",
       "      <td>2010</td>\n",
       "    </tr>\n",
       "    <tr>\n",
       "      <th>2</th>\n",
       "      <td>2</td>\n",
       "      <td>上海中心大廈</td>\n",
       "      <td>上海</td>\n",
       "      <td>中国</td>\n",
       "      <td>亞洲</td>\n",
       "      <td>632米</td>\n",
       "      <td>2,074英尺</td>\n",
       "      <td>128</td>\n",
       "      <td>2015</td>\n",
       "    </tr>\n",
       "    <tr>\n",
       "      <th>3</th>\n",
       "      <td>3</td>\n",
       "      <td>麥加皇家鐘塔飯店</td>\n",
       "      <td>麥加</td>\n",
       "      <td>沙烏地阿拉伯</td>\n",
       "      <td>亞洲</td>\n",
       "      <td>601米</td>\n",
       "      <td>1,971英尺</td>\n",
       "      <td>120</td>\n",
       "      <td>2012</td>\n",
       "    </tr>\n",
       "    <tr>\n",
       "      <th>4</th>\n",
       "      <td>4</td>\n",
       "      <td>平安金融中心</td>\n",
       "      <td>深圳</td>\n",
       "      <td>中国</td>\n",
       "      <td>亞洲</td>\n",
       "      <td>600米</td>\n",
       "      <td>1,969英尺</td>\n",
       "      <td>115</td>\n",
       "      <td>2017</td>\n",
       "    </tr>\n",
       "  </tbody>\n",
       "</table>\n",
       "</div>"
      ],
      "text/plain": [
       "    0         1   2       3    4     5        6     7     8\n",
       "0  排名  名稱[A][2]  城市      國家  所在洲    高度       樓層  落成年份   NaN\n",
       "1   1      哈里發塔  杜拜     阿联酋   亞洲  828米  2,722英尺   169  2010\n",
       "2   2    上海中心大廈  上海      中国   亞洲  632米  2,074英尺   128  2015\n",
       "3   3  麥加皇家鐘塔飯店  麥加  沙烏地阿拉伯   亞洲  601米  1,971英尺   120  2012\n",
       "4   4    平安金融中心  深圳      中国   亞洲  600米  1,969英尺   115  2017"
      ]
     },
     "execution_count": 7,
     "metadata": {},
     "output_type": "execute_result"
    }
   ],
   "source": [
    "building.head()"
   ]
  },
  {
   "cell_type": "code",
   "execution_count": 8,
   "metadata": {},
   "outputs": [],
   "source": [
    "colnames = building.loc[0].values"
   ]
  },
  {
   "cell_type": "code",
   "execution_count": 9,
   "metadata": {},
   "outputs": [],
   "source": [
    "colnames[1] = \"名稱\"\n",
    "colnames[5] = \"高度(米)\"\n",
    "colnames[6] = \"高度(英尺)\"\n",
    "colnames[7] = \"樓層\"\n",
    "colnames[8] = \"落成年份\""
   ]
  },
  {
   "cell_type": "code",
   "execution_count": 10,
   "metadata": {},
   "outputs": [
    {
     "data": {
      "text/plain": [
       "array(['排名', '名稱', '城市', '國家', '所在洲', '高度(米)', '高度(英尺)', '樓層', '落成年份'],\n",
       "      dtype=object)"
      ]
     },
     "execution_count": 10,
     "metadata": {},
     "output_type": "execute_result"
    }
   ],
   "source": [
    "colnames"
   ]
  },
  {
   "cell_type": "code",
   "execution_count": 11,
   "metadata": {},
   "outputs": [],
   "source": [
    "building = building[1:]"
   ]
  },
  {
   "cell_type": "code",
   "execution_count": 12,
   "metadata": {},
   "outputs": [
    {
     "data": {
      "text/html": [
       "<div>\n",
       "<table border=\"1\" class=\"dataframe\">\n",
       "  <thead>\n",
       "    <tr style=\"text-align: right;\">\n",
       "      <th></th>\n",
       "      <th>0</th>\n",
       "      <th>1</th>\n",
       "      <th>2</th>\n",
       "      <th>3</th>\n",
       "      <th>4</th>\n",
       "      <th>5</th>\n",
       "      <th>6</th>\n",
       "      <th>7</th>\n",
       "      <th>8</th>\n",
       "    </tr>\n",
       "  </thead>\n",
       "  <tbody>\n",
       "    <tr>\n",
       "      <th>1</th>\n",
       "      <td>1</td>\n",
       "      <td>哈里發塔</td>\n",
       "      <td>杜拜</td>\n",
       "      <td>阿联酋</td>\n",
       "      <td>亞洲</td>\n",
       "      <td>828米</td>\n",
       "      <td>2,722英尺</td>\n",
       "      <td>169</td>\n",
       "      <td>2010</td>\n",
       "    </tr>\n",
       "    <tr>\n",
       "      <th>2</th>\n",
       "      <td>2</td>\n",
       "      <td>上海中心大廈</td>\n",
       "      <td>上海</td>\n",
       "      <td>中国</td>\n",
       "      <td>亞洲</td>\n",
       "      <td>632米</td>\n",
       "      <td>2,074英尺</td>\n",
       "      <td>128</td>\n",
       "      <td>2015</td>\n",
       "    </tr>\n",
       "    <tr>\n",
       "      <th>3</th>\n",
       "      <td>3</td>\n",
       "      <td>麥加皇家鐘塔飯店</td>\n",
       "      <td>麥加</td>\n",
       "      <td>沙烏地阿拉伯</td>\n",
       "      <td>亞洲</td>\n",
       "      <td>601米</td>\n",
       "      <td>1,971英尺</td>\n",
       "      <td>120</td>\n",
       "      <td>2012</td>\n",
       "    </tr>\n",
       "    <tr>\n",
       "      <th>4</th>\n",
       "      <td>4</td>\n",
       "      <td>平安金融中心</td>\n",
       "      <td>深圳</td>\n",
       "      <td>中国</td>\n",
       "      <td>亞洲</td>\n",
       "      <td>600米</td>\n",
       "      <td>1,969英尺</td>\n",
       "      <td>115</td>\n",
       "      <td>2017</td>\n",
       "    </tr>\n",
       "    <tr>\n",
       "      <th>5</th>\n",
       "      <td>5</td>\n",
       "      <td>高銀金融117</td>\n",
       "      <td>天津</td>\n",
       "      <td>中国</td>\n",
       "      <td>亞洲</td>\n",
       "      <td>597米</td>\n",
       "      <td>1,958英尺</td>\n",
       "      <td>117</td>\n",
       "      <td>2018</td>\n",
       "    </tr>\n",
       "  </tbody>\n",
       "</table>\n",
       "</div>"
      ],
      "text/plain": [
       "   0         1   2       3   4     5        6    7     8\n",
       "1  1      哈里發塔  杜拜     阿联酋  亞洲  828米  2,722英尺  169  2010\n",
       "2  2    上海中心大廈  上海      中国  亞洲  632米  2,074英尺  128  2015\n",
       "3  3  麥加皇家鐘塔飯店  麥加  沙烏地阿拉伯  亞洲  601米  1,971英尺  120  2012\n",
       "4  4    平安金融中心  深圳      中国  亞洲  600米  1,969英尺  115  2017\n",
       "5  5   高銀金融117  天津      中国  亞洲  597米  1,958英尺  117  2018"
      ]
     },
     "execution_count": 12,
     "metadata": {},
     "output_type": "execute_result"
    }
   ],
   "source": [
    "building.head()"
   ]
  },
  {
   "cell_type": "code",
   "execution_count": 13,
   "metadata": {},
   "outputs": [],
   "source": [
    "building.columns = colnames"
   ]
  },
  {
   "cell_type": "code",
   "execution_count": 14,
   "metadata": {},
   "outputs": [
    {
     "data": {
      "text/html": [
       "<div>\n",
       "<table border=\"1\" class=\"dataframe\">\n",
       "  <thead>\n",
       "    <tr style=\"text-align: right;\">\n",
       "      <th></th>\n",
       "      <th>排名</th>\n",
       "      <th>名稱</th>\n",
       "      <th>城市</th>\n",
       "      <th>國家</th>\n",
       "      <th>所在洲</th>\n",
       "      <th>高度(米)</th>\n",
       "      <th>高度(英尺)</th>\n",
       "      <th>樓層</th>\n",
       "      <th>落成年份</th>\n",
       "    </tr>\n",
       "  </thead>\n",
       "  <tbody>\n",
       "    <tr>\n",
       "      <th>1</th>\n",
       "      <td>1</td>\n",
       "      <td>哈里發塔</td>\n",
       "      <td>杜拜</td>\n",
       "      <td>阿联酋</td>\n",
       "      <td>亞洲</td>\n",
       "      <td>828米</td>\n",
       "      <td>2,722英尺</td>\n",
       "      <td>169</td>\n",
       "      <td>2010</td>\n",
       "    </tr>\n",
       "    <tr>\n",
       "      <th>2</th>\n",
       "      <td>2</td>\n",
       "      <td>上海中心大廈</td>\n",
       "      <td>上海</td>\n",
       "      <td>中国</td>\n",
       "      <td>亞洲</td>\n",
       "      <td>632米</td>\n",
       "      <td>2,074英尺</td>\n",
       "      <td>128</td>\n",
       "      <td>2015</td>\n",
       "    </tr>\n",
       "    <tr>\n",
       "      <th>3</th>\n",
       "      <td>3</td>\n",
       "      <td>麥加皇家鐘塔飯店</td>\n",
       "      <td>麥加</td>\n",
       "      <td>沙烏地阿拉伯</td>\n",
       "      <td>亞洲</td>\n",
       "      <td>601米</td>\n",
       "      <td>1,971英尺</td>\n",
       "      <td>120</td>\n",
       "      <td>2012</td>\n",
       "    </tr>\n",
       "    <tr>\n",
       "      <th>4</th>\n",
       "      <td>4</td>\n",
       "      <td>平安金融中心</td>\n",
       "      <td>深圳</td>\n",
       "      <td>中国</td>\n",
       "      <td>亞洲</td>\n",
       "      <td>600米</td>\n",
       "      <td>1,969英尺</td>\n",
       "      <td>115</td>\n",
       "      <td>2017</td>\n",
       "    </tr>\n",
       "    <tr>\n",
       "      <th>5</th>\n",
       "      <td>5</td>\n",
       "      <td>高銀金融117</td>\n",
       "      <td>天津</td>\n",
       "      <td>中国</td>\n",
       "      <td>亞洲</td>\n",
       "      <td>597米</td>\n",
       "      <td>1,958英尺</td>\n",
       "      <td>117</td>\n",
       "      <td>2018</td>\n",
       "    </tr>\n",
       "  </tbody>\n",
       "</table>\n",
       "</div>"
      ],
      "text/plain": [
       "  排名        名稱  城市      國家 所在洲 高度(米)   高度(英尺)   樓層  落成年份\n",
       "1  1      哈里發塔  杜拜     阿联酋  亞洲  828米  2,722英尺  169  2010\n",
       "2  2    上海中心大廈  上海      中国  亞洲  632米  2,074英尺  128  2015\n",
       "3  3  麥加皇家鐘塔飯店  麥加  沙烏地阿拉伯  亞洲  601米  1,971英尺  120  2012\n",
       "4  4    平安金融中心  深圳      中国  亞洲  600米  1,969英尺  115  2017\n",
       "5  5   高銀金融117  天津      中国  亞洲  597米  1,958英尺  117  2018"
      ]
     },
     "execution_count": 14,
     "metadata": {},
     "output_type": "execute_result"
    }
   ],
   "source": [
    "building.head()"
   ]
  },
  {
   "cell_type": "code",
   "execution_count": 15,
   "metadata": {},
   "outputs": [
    {
     "data": {
      "text/html": [
       "<div>\n",
       "<table border=\"1\" class=\"dataframe\">\n",
       "  <thead>\n",
       "    <tr style=\"text-align: right;\">\n",
       "      <th></th>\n",
       "      <th>排名</th>\n",
       "      <th>名稱</th>\n",
       "      <th>城市</th>\n",
       "      <th>國家</th>\n",
       "      <th>所在洲</th>\n",
       "      <th>高度(米)</th>\n",
       "      <th>高度(英尺)</th>\n",
       "      <th>樓層</th>\n",
       "      <th>落成年份</th>\n",
       "    </tr>\n",
       "  </thead>\n",
       "  <tbody>\n",
       "    <tr>\n",
       "      <th>102</th>\n",
       "      <td>101</td>\n",
       "      <td>煙台世茂海灣1號（英语：Yantai Shimao No.1 The Harbour）</td>\n",
       "      <td>烟台</td>\n",
       "      <td>中国</td>\n",
       "      <td>亚洲</td>\n",
       "      <td>323米</td>\n",
       "      <td>1,058英尺</td>\n",
       "      <td>59</td>\n",
       "      <td>2017</td>\n",
       "    </tr>\n",
       "  </tbody>\n",
       "</table>\n",
       "</div>"
      ],
      "text/plain": [
       "      排名                                           名稱  城市  國家 所在洲 高度(米)  \\\n",
       "102  101  煙台世茂海灣1號（英语：Yantai Shimao No.1 The Harbour）  烟台  中国  亚洲  323米   \n",
       "\n",
       "      高度(英尺)  樓層  落成年份  \n",
       "102  1,058英尺  59  2017  "
      ]
     },
     "execution_count": 15,
     "metadata": {},
     "output_type": "execute_result"
    }
   ],
   "source": [
    "building[building.所在洲 == \"亚洲\"]"
   ]
  },
  {
   "cell_type": "code",
   "execution_count": 16,
   "metadata": {},
   "outputs": [
    {
     "name": "stderr",
     "output_type": "stream",
     "text": [
      "D:\\Anaconda3\\lib\\site-packages\\pandas\\core\\generic.py:4702: SettingWithCopyWarning: \n",
      "A value is trying to be set on a copy of a slice from a DataFrame\n",
      "\n",
      "See the caveats in the documentation: http://pandas.pydata.org/pandas-docs/stable/indexing.html#indexing-view-versus-copy\n",
      "  self._update_inplace(new_data)\n",
      "D:\\Anaconda3\\lib\\site-packages\\IPython\\core\\interactiveshell.py:3291: SettingWithCopyWarning: \n",
      "A value is trying to be set on a copy of a slice from a DataFrame\n",
      "\n",
      "See the caveats in the documentation: http://pandas.pydata.org/pandas-docs/stable/indexing.html#indexing-view-versus-copy\n",
      "  exec(code_obj, self.user_global_ns, self.user_ns)\n"
     ]
    }
   ],
   "source": [
    "building.所在洲[building.所在洲 == \"亚洲\"] = \"亞洲\""
   ]
  },
  {
   "cell_type": "code",
   "execution_count": 17,
   "metadata": {},
   "outputs": [],
   "source": [
    "state = building[\"所在洲\"].value_counts()"
   ]
  },
  {
   "cell_type": "code",
   "execution_count": 18,
   "metadata": {},
   "outputs": [
    {
     "data": {
      "text/plain": [
       "亞洲     183\n",
       "北美洲     41\n",
       "歐洲       4\n",
       "南美洲      2\n",
       "大洋洲      2\n",
       "Name: 所在洲, dtype: int64"
      ]
     },
     "execution_count": 18,
     "metadata": {},
     "output_type": "execute_result"
    }
   ],
   "source": [
    "state"
   ]
  },
  {
   "cell_type": "code",
   "execution_count": 19,
   "metadata": {},
   "outputs": [
    {
     "data": {
      "text/plain": [
       "<matplotlib.axes._subplots.AxesSubplot at 0x23b4260cf28>"
      ]
     },
     "execution_count": 19,
     "metadata": {},
     "output_type": "execute_result"
    },
    {
     "data": {
      "image/png": "[encoded data removed]",
      "text/plain": [
       "<matplotlib.figure.Figure at 0x23b42e2cd30>"
      ]
     },
     "metadata": {
      "needs_background": "light"
     },
     "output_type": "display_data"
    }
   ],
   "source": [
    "state.plot.bar()"
   ]
  },
  {
   "cell_type": "code",
   "execution_count": 20,
   "metadata": {},
   "outputs": [],
   "source": [
    "country = building[\"國家\"].value_counts()"
   ]
  },
  {
   "cell_type": "code",
   "execution_count": 21,
   "metadata": {},
   "outputs": [
    {
     "data": {
      "text/plain": [
       "<matplotlib.axes._subplots.AxesSubplot at 0x23b42d77438>"
      ]
     },
     "execution_count": 21,
     "metadata": {},
     "output_type": "execute_result"
    },
    {
     "data": {
      "image/png": "[encoded data removed]",
      "text/plain": [
       "<matplotlib.figure.Figure at 0x23b42e1e9e8>"
      ]
     },
     "metadata": {
      "needs_background": "light"
     },
     "output_type": "display_data"
    }
   ],
   "source": [
    "country.plot.bar()"
   ]
  },
  {
   "cell_type": "code",
   "execution_count": null,
   "metadata": {},
   "outputs": [],
   "source": []
  }
 ],
 "metadata": {
  "kernelspec": {
   "display_name": "Python 3",
   "language": "python",
   "name": "python3"
  },
  "language_info": {
   "codemirror_mode": {
    "name": "ipython",
    "version": 3
   },
   "file_extension": ".py",
   "mimetype": "text/x-python",
   "name": "python",
   "nbconvert_exporter": "python",
   "pygments_lexer": "ipython3",
   "version": "3.6.8"
  }
 },
 "nbformat": 4,
 "nbformat_minor": 2
}
