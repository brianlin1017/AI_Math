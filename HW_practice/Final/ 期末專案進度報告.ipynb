{
 "cells": [
  {
   "cell_type": "markdown",
   "metadata": {},
   "source": [
    "## 主題：比特幣價格預測"
   ]
  },
  {
   "cell_type": "markdown",
   "metadata": {},
   "source": [
    "### 組員：林柏宇"
   ]
  },
  {
   "cell_type": "markdown",
   "metadata": {},
   "source": [
    "### 介紹：\n",
    "使用LSTM進行比特幣價格預測  \n",
    "Input：歷史比特幣價格  \n",
    "Output：來一個月價格走勢 "
   ]
  },
  {
   "cell_type": "markdown",
   "metadata": {},
   "source": [
    "實作方法：\n",
    "\n",
    "資料來源:  \n",
    "https://coinmarketcap.com/  \n",
    "https://www.CryptoDataDownload.com\n",
    "\n",
    "https://www.kaggle.com/mczielinski/bitcoin-historical-data  \n",
    "https://www.kaggle.com/shree1992/bitcoin-historical-price  \n",
    "https://www.kaggle.com/team-ai/bitcoin-price-prediction  \n",
    "https://www.kaggle.com/sudalairajkumar/cryptocurrencypricehistory "
   ]
  },
  {
   "cell_type": "markdown",
   "metadata": {},
   "source": [
    "專案排程"
   ]
  },
  {
   "cell_type": "markdown",
   "metadata": {},
   "source": [
    "目前進度"
   ]
  }
 ],
 "metadata": {
  "kernelspec": {
   "display_name": "Python 3",
   "language": "python",
   "name": "python3"
  },
  "language_info": {
   "codemirror_mode": {
    "name": "ipython",
    "version": 3
   },
   "file_extension": ".py",
   "mimetype": "text/x-python",
   "name": "python",
   "nbconvert_exporter": "python",
   "pygments_lexer": "ipython3",
   "version": "3.6.8"
  }
 },
 "nbformat": 4,
 "nbformat_minor": 2
}
